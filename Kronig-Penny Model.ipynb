{
 "cells": [
  {
   "cell_type": "markdown",
   "metadata": {},
   "source": [
    "# Kronig-Penny Model\n",
    "> This program is used to plot the 1D solution for Schrodinger's Equation usinng Kronig-Penny Model.\n",
    " __<p style=\"text-align: left;\"> K Sujith Bhatt, August 2020. </p>__ \n",
    "\n",
    "---\n",
    "---"
   ]
  },
  {
   "cell_type": "code",
   "execution_count": 1,
   "metadata": {},
   "outputs": [],
   "source": [
    "import matplotlib.pyplot as plt\n",
    "import numpy as np\n",
    "import math"
   ]
  },
  {
   "cell_type": "code",
   "execution_count": 2,
   "metadata": {},
   "outputs": [],
   "source": [
    "def plot(P):\n",
    "    #Define the constants 'm' and 'hbar'\n",
    "    hbar = 1.055e-34\n",
    "    m = 9.11e-31\n",
    "    \n",
    "    #Choose sensible values for 'a' and 'Emax'\n",
    "    a = 3           # in Angstroms\n",
    "    Emax = 100      # in eV\n",
    "    \n",
    "    #Conversion of a and Emax to SI units\n",
    "    a = a * 1e-10\n",
    "    Emax = Emax * 1.6e-19\n",
    "    \n",
    "    #Create a large vector of E values in the range 0 to Emax\n",
    "    E = np.linspace(0,Emax,1000)\n",
    "    \n",
    "    #Compute 'alpha' and the equation\n",
    "    alpha = np.zeros(1000)\n",
    "    alpha = (2*m*E)**0.5/hbar\n",
    "    eq = P*np.sin(alpha*a)/(alpha*a) + np.cos(alpha*a)\n",
    "    \n",
    "    #Plot eq v/s (alpha*a)\n",
    "    x_plot = np.linspace((alpha[0]*a),(alpha[-1]*a),1000)\n",
    "    x_plot = x_plot.flatten()\n",
    "    plt.plot(x_plot,eq,c='black',linewidth=2)\n",
    "    plt.xlabel(r'$\\alpha a$')\n",
    "    plt.ylabel(r'$P[sin(\\alpha a)/\\alpha a] + cos(\\alpha a)$')\n",
    "    plt.axhline(y=0,ls='--',c='grey',linewidth=1)\n",
    "    plt.axhline(y=1,ls='-',c='grey',linewidth=1)\n",
    "    plt.axhline(y=-1,ls='-',c='grey',linewidth=1)\n",
    "    plt.axvline(x=0, ls='--',c='grey',linewidth=1)\n",
    "    plt.show()"
   ]
  },
  {
   "cell_type": "code",
   "execution_count": 6,
   "metadata": {},
   "outputs": [
    {
     "name": "stdout",
     "output_type": "stream",
     "text": [
      "Enter the value of P: 5\n"
     ]
    },
    {
     "name": "stderr",
     "output_type": "stream",
     "text": [
      "C:\\ProgramData\\Anaconda3\\lib\\site-packages\\ipykernel_launcher.py:20: RuntimeWarning: invalid value encountered in true_divide\n"
     ]
    },
    {
     "data": {
      "image/png": "[encoded data removed]",
      "text/plain": [
       "<Figure size 432x288 with 1 Axes>"
      ]
     },
     "metadata": {
      "needs_background": "light"
     },
     "output_type": "display_data"
    }
   ],
   "source": [
    "P = input(\"Enter the value of P: \")\n",
    "plot(int(P))"
   ]
  }
 ],
 "metadata": {
  "kernelspec": {
   "display_name": "Python 3",
   "language": "python",
   "name": "python3"
  },
  "language_info": {
   "codemirror_mode": {
    "name": "ipython",
    "version": 3
   },
   "file_extension": ".py",
   "mimetype": "text/x-python",
   "name": "python",
   "nbconvert_exporter": "python",
   "pygments_lexer": "ipython3",
   "version": "3.7.5"
  }
 },
 "nbformat": 4,
 "nbformat_minor": 2
}